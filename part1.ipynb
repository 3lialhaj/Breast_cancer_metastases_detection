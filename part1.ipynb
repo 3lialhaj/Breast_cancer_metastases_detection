{
 "cells": [
  {
   "cell_type": "code",
   "execution_count": 1,
   "id": "22a2da78",
   "metadata": {},
   "outputs": [],
   "source": [
    "import pandas as pd\n",
    "import numpy as np\n",
    "import matplotlib.pyplot as plt\n",
    "import seaborn as sns \n",
    "from PIL import Image\n",
    "import os\n",
    "import cv2\n",
    "from sklearn.model_selection import train_test_split\n",
    "from PIL import Image\n",
    "import numpy as np\n",
    "from tensorflow.keras.applications import VGG16\n",
    "from keras.models import Sequential\n",
    "from keras.layers import Dense, Conv2D, MaxPooling2D, Flatten, Dropout\n",
    "from keras.optimizers import RMSprop\n",
    "from keras.callbacks import EarlyStopping\n",
    "from sklearn.metrics import roc_auc_score"
   ]
  },
  {
   "cell_type": "code",
   "execution_count": 2,
   "id": "8ccadd3f",
   "metadata": {},
   "outputs": [],
   "source": [
    "def load_multiple_images(dataframe, image_folder, size=(224, 224)):\n",
    "    image_list = []\n",
    "    for img_id in dataframe['img_id']:\n",
    "        full_path = f'{image_folder.rstrip(\"/\")}/{img_id}.jpeg'\n",
    "        img = Image.open(full_path).resize(size)\n",
    "        img_array = np.array(img) / 255.0\n",
    "        image_list.append(img_array)\n",
    "    return np.array(image_list)"
   ]
  },
  {
   "cell_type": "code",
   "execution_count": 3,
   "id": "4c8b184e",
   "metadata": {},
   "outputs": [],
   "source": [
    "image_directory = r\"C:\\Users\\Dell\\Desktop\\Studies\\Subjects\\Deep Learning\\assignments\\assignment2\\bau-ain3002-spring23-a2p1\\images\\images\"\n",
    "train_data = pd.read_csv('train.csv')\n",
    "test_data = pd.read_csv('test.csv')\n",
    "\n",
    "train_targets = train_data['label'].values\n",
    "train_img_data = load_multiple_images(train_data, image_directory)\n",
    "\n",
    "X_training, X_validation, y_training, y_validation = train_test_split(train_img_data, train_targets, test_size=0.2, random_state=42)\n",
    "\n",
    "test_img_data = load_multiple_images(test_data, image_directory)"
   ]
  },
  {
   "cell_type": "code",
   "execution_count": 4,
   "id": "85cc99e9",
   "metadata": {},
   "outputs": [
    {
     "name": "stderr",
     "output_type": "stream",
     "text": [
      "C:\\Users\\Dell\\anaconda3\\lib\\site-packages\\keras\\optimizers\\optimizer_v2\\rmsprop.py:140: UserWarning: The `lr` argument is deprecated, use `learning_rate` instead.\n",
      "  super().__init__(name, **kwargs)\n"
     ]
    }
   ],
   "source": [
    "base_model = VGG16(include_top=False, weights='imagenet', input_shape=(224, 224, 3))\n",
    "\n",
    "for layer in base_model.layers:\n",
    "    layer.trainable = False\n",
    "\n",
    "model = Sequential([\n",
    "    base_model,\n",
    "    Flatten(),\n",
    "    Dense(256, activation='relu'),\n",
    "    Dropout(0.5),\n",
    "    Dense(1, activation='sigmoid')\n",
    "])\n",
    "\n",
    "model.compile(loss='binary_crossentropy', optimizer=RMSprop(lr=1e-4), metrics=['accuracy'])\n",
    "\n",
    "early_stopping = EarlyStopping(monitor='val_loss', patience=3, restore_best_weights=True)"
   ]
  },
  {
   "cell_type": "code",
   "execution_count": null,
   "id": "dd7e5b8e",
   "metadata": {},
   "outputs": [
    {
     "name": "stdout",
     "output_type": "stream",
     "text": [
      "Epoch 1/20\n",
      "18/35 [==============>...............] - ETA: 2:23 - loss: 0.8785 - accuracy: 0.6076"
     ]
    }
   ],
   "source": [
    "history = model.fit(\n",
    "    X_training,\n",
    "    y_training,\n",
    "    epochs=20,\n",
    "    batch_size=32,\n",
    "    validation_data=(X_validation, y_validation)\n",
    ")"
   ]
  },
  {
   "cell_type": "code",
   "execution_count": null,
   "id": "7efb9790",
   "metadata": {},
   "outputs": [],
   "source": [
    "#I was checking again but it takes time and the deadline is soon so..\n",
    "#you can try runinning the code"
   ]
  },
  {
   "cell_type": "code",
   "execution_count": null,
   "id": "61d9afc4",
   "metadata": {},
   "outputs": [],
   "source": [
    "plt.plot(history.history['accuracy'], label='Training Accuracy')\n",
    "plt.plot(history.history['val_accuracy'], label='Validation Accuracy')\n",
    "plt.legend()\n",
    "plt.show()\n",
    "\n",
    "plt.plot(history.history['loss'], label='Training Loss')\n",
    "plt.plot(history.history['val_loss'], label='Validation Loss')\n",
    "plt.legend()\n",
    "plt.show()"
   ]
  },
  {
   "cell_type": "code",
   "execution_count": null,
   "id": "0d0f5904",
   "metadata": {},
   "outputs": [],
   "source": [
    "y_pred_proba = model.predict(X_validation)\n",
    "\n",
    "auc_score = roc_auc_score(y_validation, y_pred_proba)\n",
    "\n",
    "print('AUC score:', auc_score)"
   ]
  },
  {
   "cell_type": "code",
   "execution_count": null,
   "id": "06369dde",
   "metadata": {},
   "outputs": [],
   "source": [
    "test_img_data = load_multiple_images(test_data, image_directory)\n",
    "\n",
    "y_pred_proba = model.predict(test_img_data)\n",
    "\n",
    "y_pred = [int(round(x[0])) for x in y_pred_proba]\n",
    "\n",
    "submission = pd.DataFrame({\n",
    "    \"img_id\": test_data['img_id'].values, \n",
    "    \"cancer_score\": y_pred\n",
    "})\n",
    "\n",
    "submission.to_csv(\"submission.csv\", index=False)"
   ]
  },
  {
   "cell_type": "code",
   "execution_count": null,
   "id": "7e93db9b",
   "metadata": {},
   "outputs": [],
   "source": []
  },
  {
   "cell_type": "code",
   "execution_count": null,
   "id": "f191d124",
   "metadata": {},
   "outputs": [],
   "source": []
  },
  {
   "cell_type": "code",
   "execution_count": null,
   "id": "e55f77db",
   "metadata": {},
   "outputs": [],
   "source": []
  },
  {
   "cell_type": "code",
   "execution_count": null,
   "id": "86b724e3",
   "metadata": {},
   "outputs": [],
   "source": []
  },
  {
   "cell_type": "code",
   "execution_count": null,
   "id": "f789fbab",
   "metadata": {},
   "outputs": [],
   "source": []
  },
  {
   "cell_type": "code",
   "execution_count": null,
   "id": "8a362a10",
   "metadata": {},
   "outputs": [],
   "source": []
  }
 ],
 "metadata": {
  "kernelspec": {
   "display_name": "Python 3 (ipykernel)",
   "language": "python",
   "name": "python3"
  },
  "language_info": {
   "codemirror_mode": {
    "name": "ipython",
    "version": 3
   },
   "file_extension": ".py",
   "mimetype": "text/x-python",
   "name": "python",
   "nbconvert_exporter": "python",
   "pygments_lexer": "ipython3",
   "version": "3.9.7"
  }
 },
 "nbformat": 4,
 "nbformat_minor": 5
}
