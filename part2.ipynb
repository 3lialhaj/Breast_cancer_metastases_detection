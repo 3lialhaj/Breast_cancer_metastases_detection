{
 "cells": [
  {
   "cell_type": "code",
   "execution_count": 1,
   "metadata": {
    "executionInfo": {
     "elapsed": 3059,
     "status": "ok",
     "timestamp": 1683814995325,
     "user": {
      "displayName": "M. Magmuma",
      "userId": "17423452519079690278"
     },
     "user_tz": -180
    },
    "id": "7Z1tAvfKHFkY"
   },
   "outputs": [],
   "source": [
    "import pandas as pd\n",
    "import numpy as np\n",
    "import matplotlib.pyplot as plt\n",
    "import seaborn as sns \n",
    "from PIL import Image\n",
    "import os\n",
    "import cv2\n",
    "from sklearn.model_selection import train_test_split\n",
    "from tensorflow.keras.applications import DenseNet121\n",
    "from tensorflow.keras import layers, models, regularizers\n",
    "from tensorflow.keras.optimizers import RMSprop\n",
    "from tensorflow.keras.metrics import MeanAbsoluteError\n",
    "from sklearn.metrics import mean_absolute_error"
   ]
  },
  {
   "cell_type": "code",
   "execution_count": 3,
   "metadata": {
    "executionInfo": {
     "elapsed": 3,
     "status": "ok",
     "timestamp": 1683815006834,
     "user": {
      "displayName": "M. Magmuma",
      "userId": "17423452519079690278"
     },
     "user_tz": -180
    },
    "id": "4LSjQjrxHYj8"
   },
   "outputs": [],
   "source": [
    "image_directory = r\"C:\\Users\\Dell\\Desktop\\Studies\\Subjects\\Deep Learning\\assignments\\assignment2\\bau-ain3002-spring23-a2p1\\images\\images\"\n",
    "train_data = pd.read_csv('train.csv')\n",
    "test_data = pd.read_csv('test.csv')"
   ]
  },
  {
   "cell_type": "code",
   "execution_count": 4,
   "metadata": {
    "executionInfo": {
     "elapsed": 3,
     "status": "ok",
     "timestamp": 1683815011762,
     "user": {
      "displayName": "M. Magmuma",
      "userId": "17423452519079690278"
     },
     "user_tz": -180
    },
    "id": "E3tUhKzIIL-c"
   },
   "outputs": [],
   "source": [
    "def createdataset(dataframe, image_direc, size=(224, 224)):\n",
    "    image_list = []\n",
    "    for img_id in dataframe['img_id']:\n",
    "        full_path = os.path.join(image_direc, f\"{img_id}.jpeg\")\n",
    "        img = cv2.imread(full_path)\n",
    "        img_resized = cv2.resize(img, size)\n",
    "        image_list.append(img_resized)\n",
    "    return np.array(image_list) / 255.0"
   ]
  },
  {
   "cell_type": "code",
   "execution_count": 5,
   "metadata": {
    "executionInfo": {
     "elapsed": 11785,
     "status": "ok",
     "timestamp": 1683815028085,
     "user": {
      "displayName": "M. Magmuma",
      "userId": "17423452519079690278"
     },
     "user_tz": -180
    },
    "id": "M6rbvj49IEjg"
   },
   "outputs": [],
   "source": [
    "train_data = pd.read_csv(test_data)\n",
    "\n",
    "train_targets = train_data['metastasis_ratio'].values\n",
    "\n",
    "train_img_data = createdataset(train_data, image_directory)\n",
    "\n",
    "X_training, X_validation, y_training, y_validation = train_test_split(train_img_data, train_targets, test_size=0.2, random_state=42)\n",
    "\n",
    "test_data = pd.read_csv(test_data)\n",
    "test_img_data = createdataset(test_data, image_directory)"
   ]
  },
  {
   "cell_type": "code",
   "execution_count": 7,
   "metadata": {
    "colab": {
     "base_uri": "https://localhost:8080/"
    },
    "executionInfo": {
     "elapsed": 31793,
     "status": "ok",
     "timestamp": 1683815077151,
     "user": {
      "displayName": "M. Magmuma",
      "userId": "17423452519079690278"
     },
     "user_tz": -180
    },
    "id": "E7igIQRuXprb",
    "outputId": "c7b673bb-daa0-49ce-84bb-1d81af8d4c18"
   },
   "outputs": [
    {
     "name": "stdout",
     "output_type": "stream",
     "text": [
      "Model: \"sequential\"\n",
      "_________________________________________________________________\n",
      " Layer (type)                Output Shape              Param #   \n",
      "=================================================================\n",
      " densenet121 (Functional)    (None, 7, 7, 1024)        7037504   \n",
      "                                                                 \n",
      " flatten (Flatten)           (None, 50176)             0         \n",
      "                                                                 \n",
      " dense (Dense)               (None, 256)               12845312  \n",
      "                                                                 \n",
      " batch_normalization (BatchN  (None, 256)              1024      \n",
      " ormalization)                                                   \n",
      "                                                                 \n",
      " dropout (Dropout)           (None, 256)               0         \n",
      "                                                                 \n",
      " flatten_1 (Flatten)         (None, 256)               0         \n",
      "                                                                 \n",
      " dense_1 (Dense)             (None, 256)               65792     \n",
      "                                                                 \n",
      " batch_normalization_1 (Batc  (None, 256)              1024      \n",
      " hNormalization)                                                 \n",
      "                                                                 \n",
      " dropout_1 (Dropout)         (None, 256)               0         \n",
      "                                                                 \n",
      " flatten_2 (Flatten)         (None, 256)               0         \n",
      "                                                                 \n",
      " dense_2 (Dense)             (None, 256)               65792     \n",
      "                                                                 \n",
      " batch_normalization_2 (Batc  (None, 256)              1024      \n",
      " hNormalization)                                                 \n",
      "                                                                 \n",
      " dropout_2 (Dropout)         (None, 256)               0         \n",
      "                                                                 \n",
      " flatten_3 (Flatten)         (None, 256)               0         \n",
      "                                                                 \n",
      " dense_3 (Dense)             (None, 256)               65792     \n",
      "                                                                 \n",
      " batch_normalization_3 (Batc  (None, 256)              1024      \n",
      " hNormalization)                                                 \n",
      "                                                                 \n",
      " dropout_3 (Dropout)         (None, 256)               0         \n",
      "                                                                 \n",
      " dense_4 (Dense)             (None, 1)                 257       \n",
      "                                                                 \n",
      "=================================================================\n",
      "Total params: 20,084,545\n",
      "Trainable params: 13,044,993\n",
      "Non-trainable params: 7,039,552\n",
      "_________________________________________________________________\n"
     ]
    }
   ],
   "source": [
    "base_model = DenseNet121(weights='imagenet', include_top=False, input_shape=(224, 224, 3))\n",
    "\n",
    "for layer in base_model.layers:\n",
    "    layer.trainable = False\n",
    "\n",
    "model = models.Sequential([\n",
    "    base_model ,\n",
    "\n",
    "    layers.Flatten() , \n",
    "    layers.Dense(256 , kernel_regularizer=regularizers.l2(0.001) , activation='relu') ,\n",
    "    layers.BatchNormalization() ,\n",
    "    layers.Dropout(0.5) ,\n",
    "\n",
    "      layers.Flatten() , \n",
    "    layers.Dense(256 , kernel_regularizer=regularizers.l2(0.001) , activation='relu') ,\n",
    "    layers.BatchNormalization() ,\n",
    "    layers.Dropout(0.5) ,\n",
    "\n",
    "    layers.Flatten() , \n",
    "    layers.Dense(256 , kernel_regularizer=regularizers.l2(0.001) , activation='relu') ,\n",
    "    layers.BatchNormalization() ,\n",
    "    layers.Dropout(0.5) ,\n",
    "\n",
    "        layers.Flatten() , \n",
    "    layers.Dense(256 , kernel_regularizer=regularizers.l2(0.001) , activation='relu') ,\n",
    "    layers.BatchNormalization() ,\n",
    "    layers.Dropout(0.5) ,\n",
    "\n",
    "    layers.Dense(1, activation='linear')\n",
    "\n",
    "])\n",
    "\n",
    "model.summary()\n",
    "\n",
    "model.compile(loss='mean_absolute_error', optimizer=RMSprop(learning_rate=0.0001), metrics=[MeanAbsoluteError()])\n",
    "\n"
   ]
  },
  {
   "cell_type": "code",
   "execution_count": 10,
   "metadata": {
    "colab": {
     "base_uri": "https://localhost:8080/"
    },
    "executionInfo": {
     "elapsed": 99127,
     "status": "ok",
     "timestamp": 1683815394093,
     "user": {
      "displayName": "M. Magmuma",
      "userId": "17423452519079690278"
     },
     "user_tz": -180
    },
    "id": "W59OM-swNOPW",
    "outputId": "082cc97f-bcb0-43f3-e0de-08a42815380c"
   },
   "outputs": [
    {
     "name": "stdout",
     "output_type": "stream",
     "text": [
      "Epoch 1/20\n",
      "32/32 [==============================] - 12s 319ms/step - loss: 2.0470 - mean_absolute_error: 1.0090 - val_loss: 1.3582 - val_mean_absolute_error: 0.3246\n",
      "Epoch 2/20\n",
      "32/32 [==============================] - 5s 148ms/step - loss: 2.0255 - mean_absolute_error: 0.9956 - val_loss: 1.3485 - val_mean_absolute_error: 0.3228\n",
      "Epoch 3/20\n",
      "32/32 [==============================] - 4s 132ms/step - loss: 2.0327 - mean_absolute_error: 1.0107 - val_loss: 1.3488 - val_mean_absolute_error: 0.3309\n",
      "Epoch 4/20\n",
      "32/32 [==============================] - 5s 155ms/step - loss: 2.0038 - mean_absolute_error: 0.9895 - val_loss: 1.3284 - val_mean_absolute_error: 0.3180\n",
      "Epoch 5/20\n",
      "32/32 [==============================] - 5s 148ms/step - loss: 1.9922 - mean_absolute_error: 0.9853 - val_loss: 1.3493 - val_mean_absolute_error: 0.3463\n",
      "Epoch 6/20\n",
      "32/32 [==============================] - 4s 132ms/step - loss: 1.9631 - mean_absolute_error: 0.9635 - val_loss: 1.3432 - val_mean_absolute_error: 0.3473\n",
      "Epoch 7/20\n",
      "32/32 [==============================] - 4s 141ms/step - loss: 1.9339 - mean_absolute_error: 0.9414 - val_loss: 1.3168 - val_mean_absolute_error: 0.3279\n",
      "Epoch 8/20\n",
      "32/32 [==============================] - 4s 132ms/step - loss: 1.9537 - mean_absolute_error: 0.9681 - val_loss: 1.3073 - val_mean_absolute_error: 0.3252\n",
      "Epoch 9/20\n",
      "32/32 [==============================] - 5s 147ms/step - loss: 1.9480 - mean_absolute_error: 0.9692 - val_loss: 1.2979 - val_mean_absolute_error: 0.3225\n",
      "Epoch 10/20\n",
      "32/32 [==============================] - 5s 154ms/step - loss: 1.9199 - mean_absolute_error: 0.9476 - val_loss: 1.3093 - val_mean_absolute_error: 0.3403\n",
      "Epoch 11/20\n",
      "32/32 [==============================] - 5s 147ms/step - loss: 1.8952 - mean_absolute_error: 0.9293 - val_loss: 1.3125 - val_mean_absolute_error: 0.3499\n",
      "Epoch 12/20\n",
      "32/32 [==============================] - 5s 146ms/step - loss: 1.9645 - mean_absolute_error: 1.0049 - val_loss: 1.2913 - val_mean_absolute_error: 0.3349\n",
      "Epoch 13/20\n",
      "32/32 [==============================] - 4s 137ms/step - loss: 1.8850 - mean_absolute_error: 0.9315 - val_loss: 1.2908 - val_mean_absolute_error: 0.3405\n",
      "Epoch 14/20\n",
      "32/32 [==============================] - 4s 131ms/step - loss: 1.8506 - mean_absolute_error: 0.9030 - val_loss: 1.2384 - val_mean_absolute_error: 0.2938\n",
      "Epoch 15/20\n",
      "32/32 [==============================] - 4s 130ms/step - loss: 1.8630 - mean_absolute_error: 0.9212 - val_loss: 1.2340 - val_mean_absolute_error: 0.2950\n",
      "Epoch 16/20\n",
      "32/32 [==============================] - 4s 138ms/step - loss: 1.8101 - mean_absolute_error: 0.8737 - val_loss: 1.2500 - val_mean_absolute_error: 0.3164\n",
      "Epoch 17/20\n",
      "32/32 [==============================] - 4s 130ms/step - loss: 1.8115 - mean_absolute_error: 0.8806 - val_loss: 1.2322 - val_mean_absolute_error: 0.3040\n",
      "Epoch 18/20\n",
      "32/32 [==============================] - 5s 146ms/step - loss: 1.7994 - mean_absolute_error: 0.8737 - val_loss: 1.2367 - val_mean_absolute_error: 0.3137\n",
      "Epoch 19/20\n",
      "32/32 [==============================] - 5s 152ms/step - loss: 1.7910 - mean_absolute_error: 0.8705 - val_loss: 1.2272 - val_mean_absolute_error: 0.3092\n",
      "Epoch 20/20\n",
      "32/32 [==============================] - 4s 130ms/step - loss: 1.7535 - mean_absolute_error: 0.8379 - val_loss: 1.2100 - val_mean_absolute_error: 0.2968\n"
     ]
    }
   ],
   "source": [
    "fittedmodel  = model.fit(X_training, y_training, \n",
    "                    validation_data=(X_validation, y_validation), \n",
    "                    batch_size=32, \n",
    "                    epochs=20)"
   ]
  },
  {
   "cell_type": "code",
   "execution_count": 11,
   "metadata": {
    "colab": {
     "base_uri": "https://localhost:8080/"
    },
    "executionInfo": {
     "elapsed": 2928,
     "status": "ok",
     "timestamp": 1683815401775,
     "user": {
      "displayName": "M. Magmuma",
      "userId": "17423452519079690278"
     },
     "user_tz": -180
    },
    "id": "R-S_hrO4NbDT",
    "outputId": "9fb568e1-7f1e-4b45-e941-add03c7cf632"
   },
   "outputs": [
    {
     "name": "stdout",
     "output_type": "stream",
     "text": [
      "9/9 [==============================] - 1s 102ms/step\n",
      "MAE score: 0.296849672138691\n"
     ]
    }
   ],
   "source": [
    "y_pred = model.predict(X_validation)\n",
    "\n",
    "mae_score = mean_absolute_error(y_validation, y_pred)\n",
    "\n",
    "print('MAE score:', mae_score)"
   ]
  },
  {
   "cell_type": "code",
   "execution_count": 12,
   "metadata": {
    "colab": {
     "base_uri": "https://localhost:8080/"
    },
    "executionInfo": {
     "elapsed": 6654,
     "status": "ok",
     "timestamp": 1683815412301,
     "user": {
      "displayName": "M. Magmuma",
      "userId": "17423452519079690278"
     },
     "user_tz": -180
    },
    "id": "xL7LCHLTNd3k",
    "outputId": "841d598e-a89b-4d8e-c108-82d368768a42"
   },
   "outputs": [
    {
     "name": "stdout",
     "output_type": "stream",
     "text": [
      "30/30 [==============================] - 4s 140ms/step\n"
     ]
    }
   ],
   "source": [
    "y_pred = model.predict(test_img_data)\n",
    "\n",
    "submission = pd.DataFrame({\n",
    "    \"img_id\": test_data['img_id'].values, \n",
    "    \"predicted_metastasis_ratio\": y_pred.flatten()\n",
    "})\n",
    "\n",
    "submission.to_csv(\"submission.csv\", index=False)"
   ]
  },
  {
   "cell_type": "code",
   "execution_count": null,
   "metadata": {},
   "outputs": [],
   "source": []
  },
  {
   "cell_type": "code",
   "execution_count": null,
   "metadata": {},
   "outputs": [],
   "source": []
  },
  {
   "cell_type": "code",
   "execution_count": null,
   "metadata": {},
   "outputs": [],
   "source": []
  }
 ],
 "metadata": {
  "accelerator": "GPU",
  "colab": {
   "authorship_tag": "ABX9TyMny+uU5nsYFDosId1VY61C",
   "gpuType": "T4",
   "mount_file_id": "1rVMl3wxB6xN-15pIEQMS0T_9FsHxyxF6",
   "provenance": []
  },
  "gpuClass": "standard",
  "kernelspec": {
   "display_name": "Python 3 (ipykernel)",
   "language": "python",
   "name": "python3"
  },
  "language_info": {
   "codemirror_mode": {
    "name": "ipython",
    "version": 3
   },
   "file_extension": ".py",
   "mimetype": "text/x-python",
   "name": "python",
   "nbconvert_exporter": "python",
   "pygments_lexer": "ipython3",
   "version": "3.9.7"
  }
 },
 "nbformat": 4,
 "nbformat_minor": 1
}
